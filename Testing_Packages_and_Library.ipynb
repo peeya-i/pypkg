{
  "nbformat": 4,
  "nbformat_minor": 0,
  "metadata": {
    "colab": {
      "provenance": [],
      "include_colab_link": true
    },
    "kernelspec": {
      "name": "python3",
      "display_name": "Python 3"
    },
    "language_info": {
      "name": "python"
    }
  },
  "cells": [
    {
      "cell_type": "markdown",
      "metadata": {
        "id": "view-in-github",
        "colab_type": "text"
      },
      "source": [
        "<a href=\"https://colab.research.google.com/github/peeya-i/pypkg/blob/main/Testing_Packages_and_Library.ipynb\" target=\"_parent\"><img src=\"https://colab.research.google.com/assets/colab-badge.svg\" alt=\"Open In Colab\"/></a>"
      ]
    },
    {
      "cell_type": "markdown",
      "source": [
        "# Test Building Package"
      ],
      "metadata": {
        "id": "OvhILoUI1QfY"
      }
    },
    {
      "cell_type": "code",
      "execution_count": null,
      "metadata": {
        "colab": {
          "base_uri": "https://localhost:8080/"
        },
        "id": "V8MPKg19lsG2",
        "outputId": "f04148b3-9944-4a98-fc59-fd180861483d"
      },
      "outputs": [
        {
          "output_type": "stream",
          "name": "stdout",
          "text": [
            "  Preparing metadata (setup.py) ... \u001b[?25l\u001b[?25hdone\n",
            "\u001b[2K   \u001b[90m━━━━━━━━━━━━━━━━━━━━━━━━━━━━━━━━━━━━━━━━\u001b[0m \u001b[32m84.1/84.1 kB\u001b[0m \u001b[31m2.4 MB/s\u001b[0m eta \u001b[36m0:00:00\u001b[0m\n",
            "\u001b[?25h  Building wheel for ralf (setup.py) ... \u001b[?25l\u001b[?25hdone\n"
          ]
        }
      ],
      "source": [
        "!pip install -Uq git+https://github.com/CloudKaryaOrg/ralf.git"
      ]
    },
    {
      "cell_type": "code",
      "source": [
        "!pip list | grep ralf"
      ],
      "metadata": {
        "colab": {
          "base_uri": "https://localhost:8080/"
        },
        "id": "im-mh-_ynK8h",
        "outputId": "4be90483-f3cd-4a9d-e51f-eef799b3fea0"
      },
      "execution_count": null,
      "outputs": [
        {
          "output_type": "stream",
          "name": "stdout",
          "text": [
            "ralf                                  0.1.12\n"
          ]
        }
      ]
    },
    {
      "cell_type": "code",
      "source": [
        "from importlib.metadata import version\n",
        "version(\"ralf\")"
      ],
      "metadata": {
        "colab": {
          "base_uri": "https://localhost:8080/",
          "height": 35
        },
        "id": "LQ6Tj4egAH6e",
        "outputId": "a7d26b2e-1181-4317-9784-494cd582b098"
      },
      "execution_count": null,
      "outputs": [
        {
          "output_type": "execute_result",
          "data": {
            "text/plain": [
              "'0.1.12'"
            ],
            "application/vnd.google.colaboratory.intrinsic+json": {
              "type": "string"
            }
          },
          "metadata": {},
          "execution_count": 9
        }
      ]
    },
    {
      "cell_type": "code",
      "source": [
        "import ralf\n",
        "print(ralf.__version__)\n",
        "dir(ralf)"
      ],
      "metadata": {
        "colab": {
          "base_uri": "https://localhost:8080/"
        },
        "id": "I1KRYLAwtagd",
        "outputId": "ea98c8a2-35b6-4f69-f7b9-f65fb7de0fc7"
      },
      "execution_count": null,
      "outputs": [
        {
          "output_type": "stream",
          "name": "stdout",
          "text": [
            "0.1.12\n"
          ]
        },
        {
          "output_type": "execute_result",
          "data": {
            "text/plain": [
              "['Ralf',\n",
              " 'RalfSavingCallback',\n",
              " '__builtins__',\n",
              " '__cached__',\n",
              " '__doc__',\n",
              " '__file__',\n",
              " '__loader__',\n",
              " '__name__',\n",
              " '__package__',\n",
              " '__path__',\n",
              " '__spec__',\n",
              " '__version__',\n",
              " 'get_system_info',\n",
              " 'ralf',\n",
              " 'ralf_train']"
            ]
          },
          "metadata": {},
          "execution_count": 11
        }
      ]
    },
    {
      "cell_type": "code",
      "source": [
        "import pypkg\n",
        "# Print package version\n",
        "!pip list|grep pypkg\n",
        "# Pring the first library version\n",
        "print(pypkg.__version__)\n",
        "# Show the exposed variables in the library\n",
        "dir(pypkg)"
      ],
      "metadata": {
        "colab": {
          "base_uri": "https://localhost:8080/"
        },
        "id": "aTdrEgwOowbC",
        "outputId": "67792e7b-4877-4ef3-c533-34f87935fca1"
      },
      "execution_count": null,
      "outputs": [
        {
          "output_type": "stream",
          "name": "stdout",
          "text": [
            "pypkg                                 0.1.0\n",
            "0.1.1\n"
          ]
        },
        {
          "output_type": "execute_result",
          "data": {
            "text/plain": [
              "['__builtins__',\n",
              " '__cached__',\n",
              " '__doc__',\n",
              " '__file__',\n",
              " '__loader__',\n",
              " '__name__',\n",
              " '__package__',\n",
              " '__path__',\n",
              " '__spec__',\n",
              " '__version__',\n",
              " 'importlib',\n",
              " 'show',\n",
              " 'subprocess',\n",
              " 'testImport']"
            ]
          },
          "metadata": {},
          "execution_count": 148
        }
      ]
    },
    {
      "cell_type": "code",
      "source": [
        "# Show the location where the library is installed and the contents\n",
        "pypkg_loc = pypkg.__path__\n",
        "print(pypkg_loc[0], \"\\n\")\n",
        "!ls -R \"{pypkg_loc[0]}\""
      ],
      "metadata": {
        "colab": {
          "base_uri": "https://localhost:8080/"
        },
        "id": "wEDVbybiubjW",
        "outputId": "70c6f211-4c3d-448b-9d4b-6b4120780e36"
      },
      "execution_count": null,
      "outputs": [
        {
          "output_type": "stream",
          "name": "stdout",
          "text": [
            "/usr/local/lib/python3.12/dist-packages/pypkg \n",
            "\n",
            "/usr/local/lib/python3.12/dist-packages/pypkg:\n",
            "__init__.py  __pycache__  pylib_a  pylib_b\n",
            "\n",
            "/usr/local/lib/python3.12/dist-packages/pypkg/__pycache__:\n",
            "__init__.cpython-312.pyc\n",
            "\n",
            "/usr/local/lib/python3.12/dist-packages/pypkg/pylib_a:\n",
            "__init__.py  __pycache__\n",
            "\n",
            "/usr/local/lib/python3.12/dist-packages/pypkg/pylib_a/__pycache__:\n",
            "__init__.cpython-312.pyc\n",
            "\n",
            "/usr/local/lib/python3.12/dist-packages/pypkg/pylib_b:\n",
            "__init__.py  __pycache__  randomclass.py\n",
            "\n",
            "/usr/local/lib/python3.12/dist-packages/pypkg/pylib_b/__pycache__:\n",
            "__init__.cpython-312.pyc  randomclass.cpython-312.pyc\n"
          ]
        }
      ]
    },
    {
      "cell_type": "code",
      "source": [
        "# Import the second library\n",
        "import pypkg.pylib_a\n",
        "print(pypkg.pylib_a.__version__)\n",
        "dir(pypkg.pylib_a)"
      ],
      "metadata": {
        "colab": {
          "base_uri": "https://localhost:8080/"
        },
        "id": "tl7kP1nPw72z",
        "outputId": "a3555a2d-a0a8-4406-f848-dc1c8b830b32"
      },
      "execution_count": null,
      "outputs": [
        {
          "output_type": "stream",
          "name": "stdout",
          "text": [
            "0.1.2\n"
          ]
        },
        {
          "output_type": "execute_result",
          "data": {
            "text/plain": [
              "['__builtins__',\n",
              " '__cached__',\n",
              " '__doc__',\n",
              " '__file__',\n",
              " '__loader__',\n",
              " '__name__',\n",
              " '__package__',\n",
              " '__path__',\n",
              " '__spec__',\n",
              " '__version__',\n",
              " 'show']"
            ]
          },
          "metadata": {},
          "execution_count": 151
        }
      ]
    },
    {
      "cell_type": "code",
      "source": [
        "# Import the third library\n",
        "import pypkg.pylib_b\n",
        "print(pypkg.pylib_b.__version__)\n",
        "dir(pypkg.pylib_b)"
      ],
      "metadata": {
        "colab": {
          "base_uri": "https://localhost:8080/"
        },
        "id": "p8wRezukYwOs",
        "outputId": "380c69bd-bd59-4fc5-ff15-747429466a2d"
      },
      "execution_count": null,
      "outputs": [
        {
          "output_type": "stream",
          "name": "stdout",
          "text": [
            "0.1.3\n"
          ]
        },
        {
          "output_type": "execute_result",
          "data": {
            "text/plain": [
              "['__builtins__',\n",
              " '__cached__',\n",
              " '__doc__',\n",
              " '__file__',\n",
              " '__loader__',\n",
              " '__name__',\n",
              " '__package__',\n",
              " '__path__',\n",
              " '__spec__',\n",
              " '__version__',\n",
              " 'randomclass',\n",
              " 'rd1',\n",
              " 'show',\n",
              " 'show2']"
            ]
          },
          "metadata": {},
          "execution_count": 152
        }
      ]
    },
    {
      "cell_type": "code",
      "source": [
        "pylib_b_loc = pypkg.pylib_b.__file__\n",
        "print(pylib_b_loc, \"\\n\")\n",
        "!cat \"{pylib_b_loc}\""
      ],
      "metadata": {
        "colab": {
          "base_uri": "https://localhost:8080/"
        },
        "id": "AmePT8niUF74",
        "outputId": "9942095d-bae3-466e-975d-08fb154f757e"
      },
      "execution_count": null,
      "outputs": [
        {
          "output_type": "stream",
          "name": "stdout",
          "text": [
            "/usr/local/lib/python3.12/dist-packages/pypkg/pylib_b/__init__.py \n",
            "\n",
            "from .randomclass import random as rd1\n",
            "# Not import random2 to test whether it will show up after importing\n",
            "\n",
            "__version__=\"0.1.3\"\n",
            "\n",
            "def show():\n",
            "    print(\"pylib-b\", __version__)\n",
            "    rd1(10)\n",
            "\n",
            "def show2():\n",
            "    print(\"pylib-b show2\")\n",
            "\n",
            "if __name__ == '__main__':\n",
            "    show()"
          ]
        }
      ]
    },
    {
      "cell_type": "code",
      "source": [
        "pypkg.pylib_b.show()\n",
        "pypkg.pylib_b.show2()"
      ],
      "metadata": {
        "colab": {
          "base_uri": "https://localhost:8080/"
        },
        "id": "V22rmhvEUm2Y",
        "outputId": "90ec9218-4b7a-4faf-89a7-96d4cd67ada8"
      },
      "execution_count": null,
      "outputs": [
        {
          "output_type": "stream",
          "name": "stdout",
          "text": [
            "pylib-b 0.1.3\n",
            "passed a:  10\n",
            "pylib-b show2\n"
          ]
        }
      ]
    }
  ]
}