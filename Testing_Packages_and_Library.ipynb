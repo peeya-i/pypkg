{
  "nbformat": 4,
  "nbformat_minor": 0,
  "metadata": {
    "colab": {
      "provenance": [],
      "include_colab_link": true
    },
    "kernelspec": {
      "name": "python3",
      "display_name": "Python 3"
    },
    "language_info": {
      "name": "python"
    }
  },
  "cells": [
    {
      "cell_type": "markdown",
      "metadata": {
        "id": "view-in-github",
        "colab_type": "text"
      },
      "source": [
        "<a href=\"https://colab.research.google.com/github/peeya-i/pypkg/blob/main/Testing_Packages_and_Library.ipynb\" target=\"_parent\"><img src=\"https://colab.research.google.com/assets/colab-badge.svg\" alt=\"Open In Colab\"/></a>"
      ]
    },
    {
      "cell_type": "code",
      "source": [
        "!pip list | grep ralf"
      ],
      "metadata": {
        "colab": {
          "base_uri": "https://localhost:8080/"
        },
        "id": "im-mh-_ynK8h",
        "outputId": "4be90483-f3cd-4a9d-e51f-eef799b3fea0"
      },
      "execution_count": null,
      "outputs": [
        {
          "output_type": "stream",
          "name": "stdout",
          "text": [
            "ralf                                  0.1.12\n"
          ]
        }
      ]
    },
    {
      "cell_type": "code",
      "source": [
        "from importlib.metadata import version\n",
        "version(\"ralf\")"
      ],
      "metadata": {
        "colab": {
          "base_uri": "https://localhost:8080/",
          "height": 35
        },
        "id": "LQ6Tj4egAH6e",
        "outputId": "a7d26b2e-1181-4317-9784-494cd582b098"
      },
      "execution_count": null,
      "outputs": [
        {
          "output_type": "execute_result",
          "data": {
            "text/plain": [
              "'0.1.12'"
            ],
            "application/vnd.google.colaboratory.intrinsic+json": {
              "type": "string"
            }
          },
          "metadata": {},
          "execution_count": 9
        }
      ]
    },
    {
      "cell_type": "code",
      "source": [
        "import ralf\n",
        "print(ralf.__version__)\n",
        "dir(ralf)"
      ],
      "metadata": {
        "colab": {
          "base_uri": "https://localhost:8080/"
        },
        "id": "I1KRYLAwtagd",
        "outputId": "ea98c8a2-35b6-4f69-f7b9-f65fb7de0fc7"
      },
      "execution_count": null,
      "outputs": [
        {
          "output_type": "stream",
          "name": "stdout",
          "text": [
            "0.1.12\n"
          ]
        },
        {
          "output_type": "execute_result",
          "data": {
            "text/plain": [
              "['Ralf',\n",
              " 'RalfSavingCallback',\n",
              " '__builtins__',\n",
              " '__cached__',\n",
              " '__doc__',\n",
              " '__file__',\n",
              " '__loader__',\n",
              " '__name__',\n",
              " '__package__',\n",
              " '__path__',\n",
              " '__spec__',\n",
              " '__version__',\n",
              " 'get_system_info',\n",
              " 'ralf',\n",
              " 'ralf_train']"
            ]
          },
          "metadata": {},
          "execution_count": 11
        }
      ]
    },
    {
      "cell_type": "markdown",
      "source": [
        "# Library imports"
      ],
      "metadata": {
        "id": "YX0H8owRozEx"
      }
    },
    {
      "cell_type": "code",
      "source": [
        "try:\n",
        "    del pypkg\n",
        "except:\n",
        "    print(\"No module to delete\")\n",
        "try:\n",
        "    del pypkg.pylib_a\n",
        "except:\n",
        "    print(\"No module to delete\")\n",
        "try:\n",
        "    del pypkg.pylib_b\n",
        "except:\n",
        "    print(\"No module to delete\")\n",
        "\n",
        "!pip uninstall pypkg\n",
        "!pip install -Uq git+https://github.com/peeya-i/pypkg.git"
      ],
      "metadata": {
        "colab": {
          "base_uri": "https://localhost:8080/"
        },
        "id": "S13yL-Eitmn3",
        "outputId": "80461bd2-8208-42ad-a0a1-137d9ffdf5ec"
      },
      "execution_count": null,
      "outputs": [
        {
          "output_type": "stream",
          "name": "stdout",
          "text": [
            "No module to delete\n",
            "No module to delete\n",
            "No module to delete\n",
            "\u001b[33mWARNING: Skipping pypkg as it is not installed.\u001b[0m\u001b[33m\n",
            "\u001b[0m  Installing build dependencies ... \u001b[?25l\u001b[?25hdone\n",
            "  Getting requirements to build wheel ... \u001b[?25l\u001b[?25hdone\n",
            "  Preparing metadata (pyproject.toml) ... \u001b[?25l\u001b[?25hdone\n",
            "  Building wheel for pypkg (pyproject.toml) ... \u001b[?25l\u001b[?25hdone\n"
          ]
        }
      ]
    },
    {
      "cell_type": "code",
      "source": [
        "!pip list|grep pypkg"
      ],
      "metadata": {
        "colab": {
          "base_uri": "https://localhost:8080/"
        },
        "id": "aTdrEgwOowbC",
        "outputId": "9ee3c2b4-a0a2-47c8-fe00-fc24ab5d31c3"
      },
      "execution_count": null,
      "outputs": [
        {
          "output_type": "stream",
          "name": "stdout",
          "text": [
            "pypkg                                 0.1.0\n"
          ]
        }
      ]
    },
    {
      "cell_type": "code",
      "source": [
        "import pypkg\n",
        "print(pypkg.__version__)\n",
        "pypkg.show()\n",
        "print(dir(pypkg))"
      ],
      "metadata": {
        "colab": {
          "base_uri": "https://localhost:8080/"
        },
        "id": "3EHlSNeZnrkw",
        "outputId": "10499390-45e5-4e43-c4e9-d08dc1f400fa"
      },
      "execution_count": null,
      "outputs": [
        {
          "output_type": "stream",
          "name": "stdout",
          "text": [
            "0.1.1\n",
            "pylib-T 0.1.1\n",
            "['__builtins__', '__cached__', '__doc__', '__file__', '__loader__', '__name__', '__package__', '__path__', '__spec__', '__version__', 'pylib_b', 'show']\n"
          ]
        }
      ]
    },
    {
      "cell_type": "code",
      "source": [
        "pypkg_loc = pypkg.__path__\n",
        "print(pypkg_loc[0], \"\\n\")\n",
        "!ls -lR \"{pypkg_loc[0]}\""
      ],
      "metadata": {
        "colab": {
          "base_uri": "https://localhost:8080/"
        },
        "id": "wEDVbybiubjW",
        "outputId": "41f87ac4-2597-4953-c506-980158a34453"
      },
      "execution_count": null,
      "outputs": [
        {
          "output_type": "stream",
          "name": "stdout",
          "text": [
            "/usr/local/lib/python3.12/dist-packages/pypkg \n",
            "\n",
            "/usr/local/lib/python3.12/dist-packages/pypkg:\n",
            "total 16\n",
            "-rw-r--r-- 1 root root  105 Aug 20 18:17 __init__.py\n",
            "drwxr-xr-x 2 root root 4096 Aug 20 18:17 __pycache__\n",
            "drwxr-xr-x 3 root root 4096 Aug 20 18:17 pylib_a\n",
            "drwxr-xr-x 3 root root 4096 Aug 20 18:17 pylib_b\n",
            "\n",
            "/usr/local/lib/python3.12/dist-packages/pypkg/__pycache__:\n",
            "total 4\n",
            "-rw-r--r-- 1 root root 402 Aug 20 18:17 __init__.cpython-312.pyc\n",
            "\n",
            "/usr/local/lib/python3.12/dist-packages/pypkg/pylib_a:\n",
            "total 8\n",
            "-rw-r--r-- 1 root root  105 Aug 20 18:17 __init__.py\n",
            "drwxr-xr-x 2 root root 4096 Aug 20 18:17 __pycache__\n",
            "\n",
            "/usr/local/lib/python3.12/dist-packages/pypkg/pylib_a/__pycache__:\n",
            "total 4\n",
            "-rw-r--r-- 1 root root 410 Aug 20 18:17 __init__.cpython-312.pyc\n",
            "\n",
            "/usr/local/lib/python3.12/dist-packages/pypkg/pylib_b:\n",
            "total 12\n",
            "-rw-r--r-- 1 root root  251 Aug 20 18:17 __init__.py\n",
            "drwxr-xr-x 2 root root 4096 Aug 20 18:17 __pycache__\n",
            "-rw-r--r-- 1 root root  157 Aug 20 18:17 randomclass.py\n",
            "\n",
            "/usr/local/lib/python3.12/dist-packages/pypkg/pylib_b/__pycache__:\n",
            "total 8\n",
            "-rw-r--r-- 1 root root 648 Aug 20 18:17 __init__.cpython-312.pyc\n",
            "-rw-r--r-- 1 root root 829 Aug 20 18:17 randomclass.cpython-312.pyc\n"
          ]
        }
      ]
    },
    {
      "cell_type": "code",
      "source": [
        "import pypkg.pylib_a\n",
        "print(pypkg.pylib_a.__version__)\n",
        "dir(pypkg.pylib_a)"
      ],
      "metadata": {
        "colab": {
          "base_uri": "https://localhost:8080/"
        },
        "id": "tl7kP1nPw72z",
        "outputId": "479e543c-5143-43ea-bad7-8db475e21ce7"
      },
      "execution_count": null,
      "outputs": [
        {
          "output_type": "stream",
          "name": "stdout",
          "text": [
            "0.1.2\n"
          ]
        },
        {
          "output_type": "execute_result",
          "data": {
            "text/plain": [
              "['__builtins__',\n",
              " '__cached__',\n",
              " '__doc__',\n",
              " '__file__',\n",
              " '__loader__',\n",
              " '__name__',\n",
              " '__package__',\n",
              " '__path__',\n",
              " '__spec__',\n",
              " '__version__',\n",
              " 'show']"
            ]
          },
          "metadata": {},
          "execution_count": 20
        }
      ]
    },
    {
      "cell_type": "code",
      "source": [
        "import pypkg.pylib_b\n",
        "print(pypkg.pylib_b.__version__)\n",
        "dir(pypkg.pylib_b)"
      ],
      "metadata": {
        "colab": {
          "base_uri": "https://localhost:8080/"
        },
        "id": "p8wRezukYwOs",
        "outputId": "a7880408-b742-426e-987f-5a8e675bde2d"
      },
      "execution_count": null,
      "outputs": [
        {
          "output_type": "stream",
          "name": "stdout",
          "text": [
            "0.1.3\n"
          ]
        },
        {
          "output_type": "execute_result",
          "data": {
            "text/plain": [
              "['__builtins__',\n",
              " '__cached__',\n",
              " '__doc__',\n",
              " '__file__',\n",
              " '__loader__',\n",
              " '__name__',\n",
              " '__package__',\n",
              " '__path__',\n",
              " '__spec__',\n",
              " '__version__',\n",
              " 'randomclass',\n",
              " 'rd1',\n",
              " 'show',\n",
              " 'show2']"
            ]
          },
          "metadata": {},
          "execution_count": 4
        }
      ]
    },
    {
      "cell_type": "code",
      "source": [
        "pylib_b_loc = pypkg.pylib_b.__file__\n",
        "print(pylib_b_loc, \"\\n\")\n",
        "!cat \"{pylib_b_loc}\""
      ],
      "metadata": {
        "colab": {
          "base_uri": "https://localhost:8080/"
        },
        "id": "AmePT8niUF74",
        "outputId": "bde1df21-95a5-4854-c65f-0efe732b4859"
      },
      "execution_count": null,
      "outputs": [
        {
          "output_type": "stream",
          "name": "stdout",
          "text": [
            "/usr/local/lib/python3.12/dist-packages/pypkg/pylib_b/__init__.py \n",
            "\n",
            "from .randomclass import random as rd1\n",
            "# Not import random2 to test whethe it will show up.\n",
            "\n",
            "__version__=\"0.1.3\"\n",
            "\n",
            "def show():\n",
            "    print(\"pylib-b\", __version__)\n",
            "    rd1(10)\n",
            "\n",
            "def show2():\n",
            "    print(\"pylib-b show2\")\n",
            "\n",
            "if __name__ == '__main__':\n",
            "    show()"
          ]
        }
      ]
    },
    {
      "cell_type": "code",
      "source": [
        "pypkg.pylib_b.show()\n",
        "pypkg.pylib_b.show2()"
      ],
      "metadata": {
        "colab": {
          "base_uri": "https://localhost:8080/"
        },
        "id": "V22rmhvEUm2Y",
        "outputId": "80d2ddde-f8c2-49bf-9832-668c178c8459"
      },
      "execution_count": null,
      "outputs": [
        {
          "output_type": "stream",
          "name": "stdout",
          "text": [
            "pylib-b 0.1.3\n",
            "passed a:  10\n",
            "pylib-b show2\n"
          ]
        }
      ]
    }
  ]
}