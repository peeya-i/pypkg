{
  "nbformat": 4,
  "nbformat_minor": 0,
  "metadata": {
    "colab": {
      "provenance": [],
      "include_colab_link": true
    },
    "kernelspec": {
      "name": "python3",
      "display_name": "Python 3"
    },
    "language_info": {
      "name": "python"
    }
  },
  "cells": [
    {
      "cell_type": "markdown",
      "metadata": {
        "id": "view-in-github",
        "colab_type": "text"
      },
      "source": [
        "<a href=\"https://colab.research.google.com/github/peeya-i/pypkg/blob/peeya/Testing_Packages_and_Library.ipynb\" target=\"_parent\"><img src=\"https://colab.research.google.com/assets/colab-badge.svg\" alt=\"Open In Colab\"/></a>"
      ]
    },
    {
      "cell_type": "markdown",
      "source": [
        "# Test Building Package"
      ],
      "metadata": {
        "id": "OvhILoUI1QfY"
      }
    },
    {
      "cell_type": "code",
      "execution_count": null,
      "metadata": {
        "colab": {
          "base_uri": "https://localhost:8080/"
        },
        "id": "V8MPKg19lsG2",
        "outputId": "f04148b3-9944-4a98-fc59-fd180861483d"
      },
      "outputs": [
        {
          "output_type": "stream",
          "name": "stdout",
          "text": [
            "  Preparing metadata (setup.py) ... \u001b[?25l\u001b[?25hdone\n",
            "\u001b[2K   \u001b[90m━━━━━━━━━━━━━━━━━━━━━━━━━━━━━━━━━━━━━━━━\u001b[0m \u001b[32m84.1/84.1 kB\u001b[0m \u001b[31m2.4 MB/s\u001b[0m eta \u001b[36m0:00:00\u001b[0m\n",
            "\u001b[?25h  Building wheel for ralf (setup.py) ... \u001b[?25l\u001b[?25hdone\n"
          ]
        }
      ],
      "source": [
        "!pip install -Uq git+https://github.com/CloudKaryaOrg/ralf.git"
      ]
    },
    {
      "cell_type": "code",
      "source": [
        "!pip list | grep ralf"
      ],
      "metadata": {
        "colab": {
          "base_uri": "https://localhost:8080/"
        },
        "id": "im-mh-_ynK8h",
        "outputId": "4be90483-f3cd-4a9d-e51f-eef799b3fea0"
      },
      "execution_count": null,
      "outputs": [
        {
          "output_type": "stream",
          "name": "stdout",
          "text": [
            "ralf                                  0.1.12\n"
          ]
        }
      ]
    },
    {
      "cell_type": "code",
      "source": [
        "from importlib.metadata import version\n",
        "version(\"ralf\")"
      ],
      "metadata": {
        "colab": {
          "base_uri": "https://localhost:8080/",
          "height": 35
        },
        "id": "LQ6Tj4egAH6e",
        "outputId": "a7d26b2e-1181-4317-9784-494cd582b098"
      },
      "execution_count": null,
      "outputs": [
        {
          "output_type": "execute_result",
          "data": {
            "text/plain": [
              "'0.1.12'"
            ],
            "application/vnd.google.colaboratory.intrinsic+json": {
              "type": "string"
            }
          },
          "metadata": {},
          "execution_count": 9
        }
      ]
    },
    {
      "cell_type": "code",
      "source": [
        "import ralf\n",
        "print(ralf.__version__)\n",
        "dir(ralf)"
      ],
      "metadata": {
        "colab": {
          "base_uri": "https://localhost:8080/"
        },
        "id": "I1KRYLAwtagd",
        "outputId": "ea98c8a2-35b6-4f69-f7b9-f65fb7de0fc7"
      },
      "execution_count": null,
      "outputs": [
        {
          "output_type": "stream",
          "name": "stdout",
          "text": [
            "0.1.12\n"
          ]
        },
        {
          "output_type": "execute_result",
          "data": {
            "text/plain": [
              "['Ralf',\n",
              " 'RalfSavingCallback',\n",
              " '__builtins__',\n",
              " '__cached__',\n",
              " '__doc__',\n",
              " '__file__',\n",
              " '__loader__',\n",
              " '__name__',\n",
              " '__package__',\n",
              " '__path__',\n",
              " '__spec__',\n",
              " '__version__',\n",
              " 'get_system_info',\n",
              " 'ralf',\n",
              " 'ralf_train']"
            ]
          },
          "metadata": {},
          "execution_count": 11
        }
      ]
    },
    {
      "cell_type": "code",
      "source": [
        "import pypkg\n",
        "# Print package version\n",
        "!pip list|grep pypkg\n",
        "# Pring the first library version\n",
        "print(pypkg.__version__)\n",
        "# Show the exposed variables in the library\n",
        "dir(pypkg)"
      ],
      "metadata": {
        "colab": {
          "base_uri": "https://localhost:8080/"
        },
        "id": "aTdrEgwOowbC",
        "outputId": "67792e7b-4877-4ef3-c533-34f87935fca1"
      },
      "execution_count": null,
      "outputs": [
        {
          "output_type": "stream",
          "name": "stdout",
          "text": [
            "pypkg                                 0.1.0\n",
            "0.1.1\n"
          ]
        },
        {
          "output_type": "execute_result",
          "data": {
            "text/plain": [
              "['__builtins__',\n",
              " '__cached__',\n",
              " '__doc__',\n",
              " '__file__',\n",
              " '__loader__',\n",
              " '__name__',\n",
              " '__package__',\n",
              " '__path__',\n",
              " '__spec__',\n",
              " '__version__',\n",
              " 'importlib',\n",
              " 'show',\n",
              " 'subprocess',\n",
              " 'testImport']"
            ]
          },
          "metadata": {},
          "execution_count": 148
        }
      ]
    },
    {
      "cell_type": "code",
      "source": [
        "# Show the location where the library is installed and the contents\n",
        "pypkg_loc = pypkg.__path__\n",
        "print(pypkg_loc[0], \"\\n\")\n",
        "!ls -R \"{pypkg_loc[0]}\""
      ],
      "metadata": {
        "colab": {
          "base_uri": "https://localhost:8080/"
        },
        "id": "wEDVbybiubjW",
        "outputId": "70c6f211-4c3d-448b-9d4b-6b4120780e36"
      },
      "execution_count": null,
      "outputs": [
        {
          "output_type": "stream",
          "name": "stdout",
          "text": [
            "/usr/local/lib/python3.12/dist-packages/pypkg \n",
            "\n",
            "/usr/local/lib/python3.12/dist-packages/pypkg:\n",
            "__init__.py  __pycache__  pylib_a  pylib_b\n",
            "\n",
            "/usr/local/lib/python3.12/dist-packages/pypkg/__pycache__:\n",
            "__init__.cpython-312.pyc\n",
            "\n",
            "/usr/local/lib/python3.12/dist-packages/pypkg/pylib_a:\n",
            "__init__.py  __pycache__\n",
            "\n",
            "/usr/local/lib/python3.12/dist-packages/pypkg/pylib_a/__pycache__:\n",
            "__init__.cpython-312.pyc\n",
            "\n",
            "/usr/local/lib/python3.12/dist-packages/pypkg/pylib_b:\n",
            "__init__.py  __pycache__  randomclass.py\n",
            "\n",
            "/usr/local/lib/python3.12/dist-packages/pypkg/pylib_b/__pycache__:\n",
            "__init__.cpython-312.pyc  randomclass.cpython-312.pyc\n"
          ]
        }
      ]
    },
    {
      "cell_type": "code",
      "source": [
        "# Import the second library\n",
        "import pypkg.pylib_a\n",
        "print(pypkg.pylib_a.__version__)\n",
        "dir(pypkg.pylib_a)"
      ],
      "metadata": {
        "colab": {
          "base_uri": "https://localhost:8080/"
        },
        "id": "tl7kP1nPw72z",
        "outputId": "a3555a2d-a0a8-4406-f848-dc1c8b830b32"
      },
      "execution_count": null,
      "outputs": [
        {
          "output_type": "stream",
          "name": "stdout",
          "text": [
            "0.1.2\n"
          ]
        },
        {
          "output_type": "execute_result",
          "data": {
            "text/plain": [
              "['__builtins__',\n",
              " '__cached__',\n",
              " '__doc__',\n",
              " '__file__',\n",
              " '__loader__',\n",
              " '__name__',\n",
              " '__package__',\n",
              " '__path__',\n",
              " '__spec__',\n",
              " '__version__',\n",
              " 'show']"
            ]
          },
          "metadata": {},
          "execution_count": 151
        }
      ]
    },
    {
      "cell_type": "code",
      "source": [
        "# Import the third library\n",
        "import pypkg.pylib_b\n",
        "print(pypkg.pylib_b.__version__)\n",
        "dir(pypkg.pylib_b)"
      ],
      "metadata": {
        "colab": {
          "base_uri": "https://localhost:8080/"
        },
        "id": "p8wRezukYwOs",
        "outputId": "380c69bd-bd59-4fc5-ff15-747429466a2d"
      },
      "execution_count": null,
      "outputs": [
        {
          "output_type": "stream",
          "name": "stdout",
          "text": [
            "0.1.3\n"
          ]
        },
        {
          "output_type": "execute_result",
          "data": {
            "text/plain": [
              "['__builtins__',\n",
              " '__cached__',\n",
              " '__doc__',\n",
              " '__file__',\n",
              " '__loader__',\n",
              " '__name__',\n",
              " '__package__',\n",
              " '__path__',\n",
              " '__spec__',\n",
              " '__version__',\n",
              " 'randomclass',\n",
              " 'rd1',\n",
              " 'show',\n",
              " 'show2']"
            ]
          },
          "metadata": {},
          "execution_count": 152
        }
      ]
    },
    {
      "cell_type": "code",
      "source": [
        "pylib_b_loc = pypkg.pylib_b.__file__\n",
        "print(pylib_b_loc, \"\\n\")\n",
        "!cat \"{pylib_b_loc}\""
      ],
      "metadata": {
        "colab": {
          "base_uri": "https://localhost:8080/"
        },
        "id": "AmePT8niUF74",
        "outputId": "9942095d-bae3-466e-975d-08fb154f757e"
      },
      "execution_count": null,
      "outputs": [
        {
          "output_type": "stream",
          "name": "stdout",
          "text": [
            "/usr/local/lib/python3.12/dist-packages/pypkg/pylib_b/__init__.py \n",
            "\n",
            "from .randomclass import random as rd1\n",
            "# Not import random2 to test whether it will show up after importing\n",
            "\n",
            "__version__=\"0.1.3\"\n",
            "\n",
            "def show():\n",
            "    print(\"pylib-b\", __version__)\n",
            "    rd1(10)\n",
            "\n",
            "def show2():\n",
            "    print(\"pylib-b show2\")\n",
            "\n",
            "if __name__ == '__main__':\n",
            "    show()"
          ]
        }
      ]
    },
    {
      "cell_type": "code",
      "source": [
        "pypkg.pylib_b.show()\n",
        "pypkg.pylib_b.show2()"
      ],
      "metadata": {
        "colab": {
          "base_uri": "https://localhost:8080/"
        },
        "id": "V22rmhvEUm2Y",
        "outputId": "90ec9218-4b7a-4faf-89a7-96d4cd67ada8"
      },
      "execution_count": null,
      "outputs": [
        {
          "output_type": "stream",
          "name": "stdout",
          "text": [
            "pylib-b 0.1.3\n",
            "passed a:  10\n",
            "pylib-b show2\n"
          ]
        }
      ]
    },
    {
      "cell_type": "markdown",
      "source": [
        "# Install and Import Library during run-time"
      ],
      "metadata": {
        "id": "qmp1uBLYoudh"
      }
    },
    {
      "cell_type": "code",
      "source": [
        "# this shell execution only works in iPython\n",
        "# the first line in the output captures shell output. The second shows the result of print command\n",
        "try:\n",
        "  a = get_ipython().run_line_magic('shell' , 'pip list|grep openai')\n",
        "except:\n",
        "  a = \"failed\"\n",
        "print(a.output)"
      ],
      "metadata": {
        "colab": {
          "base_uri": "https://localhost:8080/"
        },
        "id": "nL_CSMt7Mj7-",
        "outputId": "f0f21454-3e81-4f51-e2fb-02178ceb6e1a"
      },
      "execution_count": null,
      "outputs": [
        {
          "output_type": "stream",
          "name": "stdout",
          "text": [
            "openai                                1.100.0\n",
            "openai                                1.100.0\n",
            "\n"
          ]
        }
      ]
    },
    {
      "cell_type": "code",
      "source": [
        "# more generic way of executing shell command in Python\n",
        "import subprocess\n",
        "try:\n",
        "    result = subprocess.run(['pip', 'show', 'xxx'], capture_output=True, text=True, check=True)\n",
        "    print(\"Standard Output:\")\n",
        "    a = result.stdout\n",
        "except subprocess.CalledProcessError as e:\n",
        "    print(f\"Command failed with error code {e.returncode}\")\n",
        "    print(f\"Error output: {e.stderr}\")\n",
        "    a = \"\"\n",
        "print(a)"
      ],
      "metadata": {
        "colab": {
          "base_uri": "https://localhost:8080/"
        },
        "id": "rbVIW_WrSkJK",
        "outputId": "1e74acce-ecdb-4e96-e286-831d679ab9ab"
      },
      "execution_count": null,
      "outputs": [
        {
          "output_type": "stream",
          "name": "stdout",
          "text": [
            "Command failed with error code 1\n",
            "Error output: WARNING: Package(s) not found: xxx\n",
            "\n",
            "\n"
          ]
        }
      ]
    },
    {
      "cell_type": "code",
      "source": [
        "lib_test = 'langchain'"
      ],
      "metadata": {
        "id": "YYtUyywB77WT"
      },
      "execution_count": null,
      "outputs": []
    },
    {
      "cell_type": "code",
      "source": [
        "!pip list | grep {lib_test}"
      ],
      "metadata": {
        "colab": {
          "base_uri": "https://localhost:8080/"
        },
        "id": "3_JzDIxfRu98",
        "outputId": "c9707396-8cd9-4db7-b1a8-ea32722ed6f1"
      },
      "execution_count": null,
      "outputs": [
        {
          "output_type": "stream",
          "name": "stdout",
          "text": [
            "langchain                             0.3.27\n",
            "langchain-core                        0.3.74\n",
            "langchain-text-splitters              0.3.9\n"
          ]
        }
      ]
    },
    {
      "cell_type": "code",
      "source": [
        "'langchain' in sys.modules"
      ],
      "metadata": {
        "colab": {
          "base_uri": "https://localhost:8080/"
        },
        "id": "SyTE4P5iS08C",
        "outputId": "6076021b-9954-44b1-90da-6eeb93e6ee86"
      },
      "execution_count": null,
      "outputs": [
        {
          "output_type": "execute_result",
          "data": {
            "text/plain": [
              "False"
            ]
          },
          "metadata": {},
          "execution_count": 304
        }
      ]
    },
    {
      "cell_type": "code",
      "source": [
        "import langchain"
      ],
      "metadata": {
        "colab": {
          "base_uri": "https://localhost:8080/",
          "height": 322
        },
        "id": "OuhXD7yvSWm4",
        "outputId": "83608a35-13e6-445c-c181-fa09a682aa95"
      },
      "execution_count": null,
      "outputs": [
        {
          "output_type": "error",
          "ename": "ModuleNotFoundError",
          "evalue": "No module named 'langchain'",
          "traceback": [
            "\u001b[0;31m---------------------------------------------------------------------------\u001b[0m",
            "\u001b[0;31mModuleNotFoundError\u001b[0m                       Traceback (most recent call last)",
            "\u001b[0;32m/tmp/ipython-input-3145503717.py\u001b[0m in \u001b[0;36m<cell line: 0>\u001b[0;34m()\u001b[0m\n\u001b[0;32m----> 1\u001b[0;31m \u001b[0;32mimport\u001b[0m \u001b[0mlangchain\u001b[0m\u001b[0;34m\u001b[0m\u001b[0;34m\u001b[0m\u001b[0m\n\u001b[0m",
            "\u001b[0;31mModuleNotFoundError\u001b[0m: No module named 'langchain'",
            "",
            "\u001b[0;31m---------------------------------------------------------------------------\u001b[0;32m\nNOTE: If your import is failing due to a missing package, you can\nmanually install dependencies using either !pip or !apt.\n\nTo view examples of installing some common dependencies, click the\n\"Open Examples\" button below.\n\u001b[0;31m---------------------------------------------------------------------------\u001b[0m\n"
          ],
          "errorDetails": {
            "actions": [
              {
                "action": "open_url",
                "actionText": "Open Examples",
                "url": "/notebooks/snippets/importing_libraries.ipynb"
              }
            ]
          }
        }
      ]
    },
    {
      "cell_type": "code",
      "source": [
        "'langchain' in sys.modules"
      ],
      "metadata": {
        "colab": {
          "base_uri": "https://localhost:8080/"
        },
        "id": "vNAlFdcHPx0r",
        "outputId": "e49ebcc8-92fb-4072-c858-acd222c00d98"
      },
      "execution_count": null,
      "outputs": [
        {
          "output_type": "execute_result",
          "data": {
            "text/plain": [
              "True"
            ]
          },
          "metadata": {},
          "execution_count": 306
        }
      ]
    },
    {
      "cell_type": "code",
      "source": [
        "try:\n",
        "  del sys.modules[lib_test]\n",
        "except:\n",
        "  print(f\"No {lib_test} module to delete\")"
      ],
      "metadata": {
        "id": "ezTNDFuyS8sB"
      },
      "execution_count": null,
      "outputs": []
    },
    {
      "cell_type": "code",
      "source": [
        "!pip uninstall '{lib_test}' -y"
      ],
      "metadata": {
        "colab": {
          "base_uri": "https://localhost:8080/"
        },
        "id": "NAhkmnEKO13r",
        "outputId": "22f86ae8-f327-450b-e8bd-4db9e7f93fe9"
      },
      "execution_count": null,
      "outputs": [
        {
          "output_type": "stream",
          "name": "stdout",
          "text": [
            "\u001b[33mWARNING: Skipping langchain as it is not installed.\u001b[0m\u001b[33m\n",
            "\u001b[0m"
          ]
        }
      ]
    },
    {
      "cell_type": "code",
      "source": [
        "# Clean up and re install pypkg package\n",
        "try:\n",
        "  del pypkg\n",
        "except:\n",
        "  print(\"No pypkg module to delete\")\n",
        "try:\n",
        "  del pypkg.pylib_a\n",
        "except:\n",
        "  print(\"No pypkg.pylib_a module to delete\")\n",
        "try:\n",
        "  del pypkg.pylib_b\n",
        "except:\n",
        "  print(\"No pypkg.pylib_b module to delete\")\n",
        "\n",
        "!pip uninstall pypkg -y\n",
        "!pip install -Uq git+https://github.com/peeya-i/pypkg.git@peeya"
      ],
      "metadata": {
        "colab": {
          "base_uri": "https://localhost:8080/"
        },
        "id": "B0Ud7V63WFWF",
        "outputId": "5e9e97e0-1c46-48cf-da70-27be01e35276"
      },
      "execution_count": null,
      "outputs": [
        {
          "output_type": "stream",
          "name": "stdout",
          "text": [
            "No pypkg module to delete\n",
            "No pypkg.pylib_a module to delete\n",
            "No pypkg.pylib_b module to delete\n",
            "Found existing installation: pypkg 0.1.0\n",
            "Uninstalling pypkg-0.1.0:\n",
            "  Successfully uninstalled pypkg-0.1.0\n",
            "  Installing build dependencies ... \u001b[?25l\u001b[?25hdone\n",
            "  Getting requirements to build wheel ... \u001b[?25l\u001b[?25hdone\n",
            "  Preparing metadata (pyproject.toml) ... \u001b[?25l\u001b[?25hdone\n",
            "  Building wheel for pypkg (pyproject.toml) ... \u001b[?25l\u001b[?25hdone\n"
          ]
        }
      ]
    },
    {
      "cell_type": "code",
      "source": [
        "!pip install '{lib_test}'"
      ],
      "metadata": {
        "colab": {
          "base_uri": "https://localhost:8080/"
        },
        "id": "G69kOzHaO4VI",
        "outputId": "f9a18865-e817-4721-eb09-607d43b8b2b0"
      },
      "execution_count": null,
      "outputs": [
        {
          "output_type": "stream",
          "name": "stdout",
          "text": [
            "Requirement already satisfied: numpy in /usr/local/lib/python3.12/dist-packages (2.3.2)\n"
          ]
        }
      ]
    },
    {
      "cell_type": "code",
      "source": [
        "dir(a)"
      ],
      "metadata": {
        "id": "kI5e2U2JODbk"
      },
      "execution_count": null,
      "outputs": []
    },
    {
      "cell_type": "code",
      "metadata": {
        "colab": {
          "base_uri": "https://localhost:8080/"
        },
        "id": "ccad1cce",
        "outputId": "b72459ed-4fe1-42e0-ddeb-fdb1ce088065"
      },
      "source": [
        "import sys\n",
        "\n",
        "def is_library_imported(library_name):\n",
        "  \"\"\"Checks if a library has been imported.\"\"\"\n",
        "  return library_name in sys.modules\n",
        "\n",
        "# Example usage:\n",
        "print(f\"Is 'os' imported? {is_library_imported('os')}\")\n",
        "print(f\"Is 'nonexistent_library' imported? {is_library_imported('nonexistent_library')}\")"
      ],
      "execution_count": null,
      "outputs": [
        {
          "output_type": "stream",
          "name": "stdout",
          "text": [
            "Is 'os' imported? True\n",
            "Is 'nonexistent_library' imported? False\n"
          ]
        }
      ]
    },
    {
      "cell_type": "code",
      "metadata": {
        "colab": {
          "base_uri": "https://localhost:8080/"
        },
        "id": "f9874eea",
        "outputId": "bcae0342-2c57-402b-d69f-6346e37b7b80"
      },
      "source": [
        "import sys\n",
        "import subprocess\n",
        "import importlib\n",
        "\n",
        "def testImport_fixed(library:str):\n",
        "    if library in sys.modules:\n",
        "        print(f\"Library {library} is already imported.\")\n",
        "        return True\n",
        "\n",
        "    try:\n",
        "        # Using check=False so that a non-zero exit code does not raise a CalledProcessError\n",
        "        returnmsg = subprocess.run(['pip', 'show', f'{library}'], capture_output=True, text=True, check=False)\n",
        "        if (returnmsg.returncode != 0):\n",
        "            print(f\"Library {library} is not installed. Trying to install it...\")\n",
        "            installmsg = subprocess.run(['pip', 'install', f'{library}'], capture_output=True, text=True, check=False)\n",
        "            if installmsg.returncode != 0:\n",
        "                print(f\"Failed to install library {library}.\")\n",
        "                return False # Return False if installation fails\n",
        "        else:\n",
        "            print(f\"Library {library} is already installed. Trying to import it...\")\n",
        "\n",
        "        imported_module = importlib.import_module(library)\n",
        "        print(f\"Successfully imported module: {library}\") # Added a success message\n",
        "        return True # Return True if import is successful\n",
        "\n",
        "    except ImportError:\n",
        "        print(f\"Library {library} is NOT installed and could not be imported.\")\n",
        "        return False # Return False if ImportError occurs\n",
        "    except Exception as e:\n",
        "        print(f\"An unexpected error occurred: {e}\")\n",
        "        return False # Return False for any other exception\n",
        "\n",
        "# Now call the fixed function\n",
        "testImport_fixed('xxx')"
      ],
      "execution_count": null,
      "outputs": [
        {
          "output_type": "stream",
          "name": "stdout",
          "text": [
            "Library xxx is already installed. Trying to import it...\n",
            "Library xxx is NOT installed and could not be imported.\n"
          ]
        },
        {
          "output_type": "execute_result",
          "data": {
            "text/plain": [
              "False"
            ]
          },
          "metadata": {},
          "execution_count": 329
        }
      ]
    },
    {
      "cell_type": "code",
      "source": [
        "import importlib\n",
        "\n",
        "class LoraConfig:\n",
        "    pass\n",
        "\n",
        "def get_peft_model():\n",
        "    pass\n",
        "\n",
        "print(LoraConfig)\n",
        "print(get_peft_model)"
      ],
      "metadata": {
        "colab": {
          "base_uri": "https://localhost:8080/"
        },
        "id": "wnWHRLpM02bh",
        "outputId": "32827706-1490-4ec3-d6a3-0acbc2db5c91"
      },
      "execution_count": 34,
      "outputs": [
        {
          "output_type": "stream",
          "name": "stdout",
          "text": [
            "<class '__main__.LoraConfig'>\n",
            "<function get_peft_model at 0x79000609dee0>\n"
          ]
        }
      ]
    },
    {
      "cell_type": "code",
      "source": [
        "def funcTest():\n",
        "  global LoraConfig, get_peft_model\n",
        "  from peft import LoraConfig, get_peft_model\n",
        "\n",
        "  print(LoraConfig)\n",
        "  print(get_peft_model)"
      ],
      "metadata": {
        "id": "Ukcnn5wJ1VcM"
      },
      "execution_count": 39,
      "outputs": []
    },
    {
      "cell_type": "code",
      "source": [
        "funcTest()\n",
        "\n",
        "print(LoraConfig)\n",
        "print(get_peft_model)"
      ],
      "metadata": {
        "colab": {
          "base_uri": "https://localhost:8080/"
        },
        "id": "kEoGspVM1-ts",
        "outputId": "83242491-6c96-440f-ab73-cb0015a427ce"
      },
      "execution_count": 40,
      "outputs": [
        {
          "output_type": "stream",
          "name": "stdout",
          "text": [
            "<class 'peft.tuners.lora.config.LoraConfig'>\n",
            "<function get_peft_model at 0x7900062a9080>\n",
            "<class 'peft.tuners.lora.config.LoraConfig'>\n",
            "<function get_peft_model at 0x7900062a9080>\n"
          ]
        }
      ]
    },
    {
      "cell_type": "code",
      "source": [
        "import tensorflow as tf\n",
        "\n",
        "if tf.test.is_built_with_gpu_support():\n",
        "    gpus = tf.config.list_physical_devices('GPU')\n",
        "    if gpus:\n",
        "        print(f\"Number of GPUs detected: {len(gpus)}\")\n",
        "        for gpu in gpus:\n",
        "            print(f\"GPU Name: {gpu.name}\")\n",
        "            # Check for HBM size - note that getting exact HBM size might vary depending on TF version and setup\n",
        "            try:\n",
        "                details = tf.config.experimental.get_device_details(gpu)\n",
        "                if 'memory_limit' in details:\n",
        "                     # memory_limit is in bytes, convert to GB\n",
        "                    hbm_size_gb = details['memory_limit'] / (1024**3)\n",
        "                    print(f\"  HBM Size: {hbm_size_gb:.2f} GB\")\n",
        "                else:\n",
        "                    print(\"  HBM Size: Not available through this method.\")\n",
        "            except AttributeError:\n",
        "                 print(\"  HBM Size: Could not retrieve details (tf.config.experimental.get_device_details not available).\")\n",
        "            except Exception as e:\n",
        "                print(f\"  An error occurred while getting device details: {e}\")\n",
        "    else:\n",
        "        print(\"No GPU devices found by TensorFlow.\")\n",
        "else:\n",
        "    print(\"TensorFlow is not built with GPU support.\")"
      ],
      "metadata": {
        "colab": {
          "base_uri": "https://localhost:8080/"
        },
        "id": "DS6V9R7h84Gd",
        "outputId": "13390590-9d68-4a90-849f-027168734cf2"
      },
      "execution_count": 1,
      "outputs": [
        {
          "output_type": "stream",
          "name": "stdout",
          "text": [
            "Number of GPUs detected: 1\n",
            "GPU Name: /physical_device:GPU:0\n",
            "  HBM Size: Not available through this method.\n"
          ]
        }
      ]
    },
    {
      "cell_type": "code",
      "source": [
        "import torch\n",
        "\n",
        "gpu_available = torch.cuda.is_available()\n",
        "gpu_info = f\"{torch.cuda.get_device_name(0)}\" if gpu_available else \"No GPU\"\n",
        "gpu_memory = f\"{torch.cuda.get_device_properties(0).total_memory/1024**3:.2f} GB\" if gpu_available else \"N/A\"\n",
        "gpu_count = torch.cuda.device_count() if gpu_available else 0\n",
        "\n",
        "print(gpu_available)\n",
        "print(\"GPU =\", gpu_info)\n",
        "print(\"GPU Memory =\", gpu_memory)\n",
        "print(\"GPU Count =\", gpu_count)\n"
      ],
      "metadata": {
        "id": "BHyKLvFy9uHV",
        "outputId": "9c4b2755-d056-4566-e969-24ef43190b8f",
        "colab": {
          "base_uri": "https://localhost:8080/"
        }
      },
      "execution_count": 2,
      "outputs": [
        {
          "output_type": "stream",
          "name": "stdout",
          "text": [
            "True\n",
            "GPU = Tesla T4\n",
            "GPU Memory = 14.74 GB\n",
            "GPU Count = 1\n"
          ]
        }
      ]
    },
    {
      "cell_type": "code",
      "source": [
        "import torch\n",
        "print(torch)"
      ],
      "metadata": {
        "id": "P7gsoqIW-Yk9",
        "outputId": "2d80c29b-7b87-47b3-c593-772df763495d",
        "colab": {
          "base_uri": "https://localhost:8080/"
        }
      },
      "execution_count": 1,
      "outputs": [
        {
          "output_type": "stream",
          "name": "stdout",
          "text": [
            "<module 'torch' from '/usr/local/lib/python3.12/dist-packages/torch/__init__.py'>\n"
          ]
        }
      ]
    },
    {
      "cell_type": "code",
      "source": [
        "!pip install GPUtil\n",
        "import GPUtil"
      ],
      "metadata": {
        "id": "nTh6qNu9-hC0"
      },
      "execution_count": null,
      "outputs": []
    },
    {
      "cell_type": "code",
      "source": [
        "available = GPUtil.getAvailable()\n",
        "print(available)\n",
        "if available:\n",
        "  GPUs = GPUtil.getGPUs()\n",
        "  # XXX: only one GPU on Colab and isn’t guaranteed\n",
        "  gpu = GPUs[0]\n",
        "  print(gpu)"
      ],
      "metadata": {
        "id": "X-cCsTf4CxvK",
        "outputId": "098502f5-3ea6-4d1b-d665-8560736fd454",
        "colab": {
          "base_uri": "https://localhost:8080/"
        }
      },
      "execution_count": 5,
      "outputs": [
        {
          "output_type": "stream",
          "name": "stdout",
          "text": [
            "[]\n"
          ]
        }
      ]
    }
  ]
}